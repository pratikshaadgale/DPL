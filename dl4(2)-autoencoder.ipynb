{
 "cells": [
  {
   "cell_type": "code",
   "execution_count": null,
   "id": "d1dc86f8",
   "metadata": {},
   "outputs": [],
   "source": [
    "import pandas as pd\n",
    "from sklearn.model_selection import train_test_split from sklearn.preprocessing import StandardScaler import tensorflow as tf\n",
    "from tensorflow import keras\n",
    "from keras.models import Sequential from keras.layers import Dense\n",
    "from tensorflow.keras import layers, models import pandas as pd\n",
    "import numpy as np\n",
    "import matplotlib.pyplot as plt\n",
    "from sklearn.metrics import confusion_matrix, classification_report\n"
   ]
  },
  {
   "cell_type": "code",
   "execution_count": null,
   "id": "e7f2371e",
   "metadata": {},
   "outputs": [],
   "source": [
    "df = pd.read_csv(“/content/creditcard.csv\")\n",
    "df-\n"
   ]
  },
  {
   "cell_type": "code",
   "execution_count": null,
   "id": "00ad5c9b",
   "metadata": {},
   "outputs": [],
   "source": [
    "\n",
    "df.drop(['Class'],axis=1)\n"
   ]
  },
  {
   "cell_type": "code",
   "execution_count": null,
   "id": "636f5ae0",
   "metadata": {},
   "outputs": [],
   "source": [
    "# Drop rows with NaN values in the target column\n",
    "df\tdf. Aopna(subse’t-[ C1ass }}\n"
   ]
  },
  {
   "cell_type": "code",
   "execution_count": null,
   "id": "c38291fd",
   "metadata": {},
   "outputs": [],
   "source": [
    "input_dim=xtrain.shape[1]"
   ]
  },
  {
   "cell_type": "code",
   "execution_count": null,
   "id": "78227f33",
   "metadata": {},
   "outputs": [],
   "source": [
    "xtrain.shape"
   ]
  },
  {
   "cell_type": "code",
   "execution_count": null,
   "id": "c5fab8d9",
   "metadata": {},
   "outputs": [],
   "source": [
    "xtest.shape"
   ]
  },
  {
   "cell_type": "code",
   "execution_count": null,
   "id": "d5595610",
   "metadata": {},
   "outputs": [],
   "source": [
    "encoder = models.Sequential([ layers.Input(shape=(input_dim,)), layers.Dense(32, activation='relu'), layers.Dense(16, activation='relu')"
   ]
  },
  {
   "cell_type": "code",
   "execution_count": null,
   "id": "d1d3d496",
   "metadata": {},
   "outputs": [],
   "source": [
    "decoder = models.Sequential([ layers.Input(shape=(16,)), layers.Dense(30,activation='relu'), layers.Dense(input_dim,activation='linear')"
   ]
  },
  {
   "cell_type": "code",
   "execution_count": null,
   "id": "0629bbad",
   "metadata": {},
   "outputs": [],
   "source": [
    "autoencoder = models.Sequential([\n",
    "encoder, decoder"
   ]
  },
  {
   "cell_type": "code",
   "execution_count": null,
   "id": "cdd42306",
   "metadata": {},
   "outputs": [],
   "source": [
    "autoencoder.compile(optimizer='adam', loss='mean_squared_error')\n",
    "autoencoder.fit(xtrain, xtrain, epochs=10, batch_size=32, shuffle=True, validation_data=(xtest, xtest))"
   ]
  },
  {
   "cell_type": "code",
   "execution_count": null,
   "id": "e89d6172",
   "metadata": {},
   "outputs": [],
   "source": [
    "ypred = autoencoder.predict(xtest)\n",
    "mse = np.mean(np.power(xtest-ypred,2),axis=1)"
   ]
  },
  {
   "cell_type": "code",
   "execution_count": null,
   "id": "bc856812",
   "metadata": {},
   "outputs": [],
   "source": [
    "thresholds = np.arange(0.1,1.0,0.1)\n",
    "for threshold in thresholds: anomalies=mse›threshold"
   ]
  },
  {
   "cell_type": "code",
   "execution_count": null,
   "id": "670d1ff4",
   "metadata": {},
   "outputs": [],
   "source": [
    "num_anomalies = sum(anomalies)\n",
    "print(f“Threshold: {threshold:.1f}, Number of anomalies :{num_anomalies}”)\n",
    "Threshold: 0.9, Number of anomalies :511"
   ]
  },
  {
   "cell_type": "code",
   "execution_count": null,
   "id": "ef8e9ceb",
   "metadata": {},
   "outputs": [],
   "source": [
    "print(”Confusion Matrix:”)\n",
    "print(confusion_matrix(ytest, anomalies))\n",
    "print(”\\nClassification Report:“) print(classification_report(ytest, anomalies))\n",
    "Confusion Matrix: "
   ]
  },
  {
   "cell_type": "code",
   "execution_count": null,
   "id": "5d9251a1",
   "metadata": {},
   "outputs": [],
   "source": [
    "import seaborn as sns\n",
    "plt.figure(figsize = (6, 4.75))\n",
    "sns.heatmap(confusion_matrix(ytest, anomalies), annot = True, annot_kws = {”size“: 16}, fmt = 'd') plt.xticks([0.5, 1.5], rotation = 'horizontal')\n",
    "plt.yticks([0.5, 1.5], rotation = 'horizontal') plt.xlabel(”Predicted label”, fontsize = 14) plt.ylabel(”True label”, fontsize = 14) plt.title(”Confusion Matrix\", fontsize = 14) plt.grid(False)\n",
    "plt.show()"
   ]
  },
  {
   "cell_type": "code",
   "execution_count": null,
   "id": "ba394d8f",
   "metadata": {},
   "outputs": [],
   "source": []
  }
 ],
 "metadata": {
  "kernelspec": {
   "display_name": "tfkernel",
   "language": "python",
   "name": "tfkernel"
  },
  "language_info": {
   "codemirror_mode": {
    "name": "ipython",
    "version": 3
   },
   "file_extension": ".py",
   "mimetype": "text/x-python",
   "name": "python",
   "nbconvert_exporter": "python",
   "pygments_lexer": "ipython3",
   "version": "3.11.4"
  }
 },
 "nbformat": 4,
 "nbformat_minor": 5
}
