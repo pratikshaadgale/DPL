{
 "cells": [
  {
   "cell_type": "code",
   "execution_count": 25,
   "id": "01b20c8c",
   "metadata": {},
   "outputs": [],
   "source": [
    "import numpy as np\n",
    "import tensorflow as tf\n",
    "from tensorflow.keras.preprocessing import text\n",
    "from tensorflow.keras.preprocessing.sequence import skipgrams"
   ]
  },
  {
   "cell_type": "code",
   "execution_count": 26,
   "id": "6c070fdb",
   "metadata": {},
   "outputs": [],
   "source": [
    "# Sample text data\n",
    "corpus = [\"I love natural language processing\",\n",
    "          \"Continuous Bag of Words is a model\",\n",
    "          \"Word embeddings capture semantic meaning\"]"
   ]
  },
  {
   "cell_type": "code",
   "execution_count": 27,
   "id": "daa4de2f",
   "metadata": {},
   "outputs": [],
   "source": [
    "# Data preparation\n",
    "tokenizer = text.Tokenizer()\n",
    "tokenizer.fit_on_texts(corpus)\n",
    "vocab_size = len(tokenizer.word_index) + 1"
   ]
  },
  {
   "cell_type": "code",
   "execution_count": 28,
   "id": "08644f88",
   "metadata": {},
   "outputs": [],
   "source": [
    "# Generate training data\n",
    "def generate_cbow_data(corpus, window_size=1):\n",
    "    sequences = tokenizer.texts_to_sequences(corpus)\n",
    "    data = []\n",
    "    for sequence in sequences:\n",
    "        pairs, labels = skipgrams(sequence, vocab_size, window_size=window_size, negative_samples=1.0)\n",
    "        for pair, label in zip(pairs, labels):\n",
    "            target_word, context_word = pair\n",
    "            data.append(([target_word, context_word], label))\n",
    "    return data\n",
    "\n",
    "window_size = 1\n",
    "cbow_data = generate_cbow_data(corpus, window_size=window_size)\n",
    "X_train, y_train = zip(*cbow_data)\n",
    "X_train = np.array(X_train)\n",
    "y_train = np.array(y_train)"
   ]
  },
  {
   "cell_type": "code",
   "execution_count": 29,
   "id": "b086f1e6",
   "metadata": {},
   "outputs": [],
   "source": [
    "# Define CBOW model\n",
    "embedding_dim = 50\n",
    "cbow_model = tf.keras.Sequential([\n",
    "    tf.keras.layers.Embedding(input_dim=vocab_size, output_dim=embedding_dim, input_length=2),\n",
    "    tf.keras.layers.Lambda(lambda x: tf.reduce_mean(x, axis=1)),\n",
    "    tf.keras.layers.Dense(vocab_size, activation='softmax')\n",
    "])\n"
   ]
  },
  {
   "cell_type": "code",
   "execution_count": 30,
   "id": "5a0fd200",
   "metadata": {},
   "outputs": [],
   "source": [
    "# Compile the model\n",
    "cbow_model.compile(optimizer='adam', loss='sparse_categorical_crossentropy', metrics=['accuracy'])"
   ]
  },
  {
   "cell_type": "code",
   "execution_count": 31,
   "id": "c1b56a8d",
   "metadata": {},
   "outputs": [
    {
     "name": "stdout",
     "output_type": "stream",
     "text": [
      "Epoch 1/5\n",
      "2/2 [==============================] - 1s 26ms/step - loss: 2.8886 - accuracy: 0.0893\n",
      "Epoch 2/5\n",
      "2/2 [==============================] - 0s 10ms/step - loss: 2.8759 - accuracy: 0.1429\n",
      "Epoch 3/5\n",
      "2/2 [==============================] - 0s 5ms/step - loss: 2.8635 - accuracy: 0.3036\n",
      "Epoch 4/5\n",
      "2/2 [==============================] - 0s 12ms/step - loss: 2.8513 - accuracy: 0.3750\n",
      "Epoch 5/5\n",
      "2/2 [==============================] - 0s 8ms/step - loss: 2.8386 - accuracy: 0.3750\n"
     ]
    },
    {
     "data": {
      "text/plain": [
       "<keras.src.callbacks.History at 0x20cb97a6910>"
      ]
     },
     "execution_count": 31,
     "metadata": {},
     "output_type": "execute_result"
    }
   ],
   "source": [
    "# Train model\n",
    "cbow_model.fit(X_train, y_train, epochs=5, batch_size=32)"
   ]
  },
  {
   "cell_type": "code",
   "execution_count": 32,
   "id": "6f0bca36",
   "metadata": {},
   "outputs": [
    {
     "name": "stdout",
     "output_type": "stream",
     "text": [
      "CBOW Model Summary:\n",
      "Model: \"sequential\"\n",
      "_________________________________________________________________\n",
      " Layer (type)                Output Shape              Param #   \n",
      "=================================================================\n",
      " embedding (Embedding)       (None, 2, 50)             900       \n",
      "                                                                 \n",
      " lambda (Lambda)             (None, 50)                0         \n",
      "                                                                 \n",
      " dense (Dense)               (None, 18)                918       \n",
      "                                                                 \n",
      "=================================================================\n",
      "Total params: 1818 (7.10 KB)\n",
      "Trainable params: 1818 (7.10 KB)\n",
      "Non-trainable params: 0 (0.00 Byte)\n",
      "_________________________________________________________________\n",
      "None\n"
     ]
    }
   ],
   "source": [
    "# Output code\n",
    "print(\"CBOW Model Summary:\")\n",
    "print(cbow_model.summary())"
   ]
  },
  {
   "cell_type": "code",
   "execution_count": null,
   "id": "78a58600",
   "metadata": {},
   "outputs": [],
   "source": []
  }
 ],
 "metadata": {
  "kernelspec": {
   "display_name": "tfkernel",
   "language": "python",
   "name": "tfkernel"
  },
  "language_info": {
   "codemirror_mode": {
    "name": "ipython",
    "version": 3
   },
   "file_extension": ".py",
   "mimetype": "text/x-python",
   "name": "python",
   "nbconvert_exporter": "python",
   "pygments_lexer": "ipython3",
   "version": "3.11.4"
  }
 },
 "nbformat": 4,
 "nbformat_minor": 5
}
